{
 "cells": [
  {
   "cell_type": "code",
   "execution_count": 1,
   "id": "7c3ecc3f",
   "metadata": {},
   "outputs": [
    {
     "name": "stdout",
     "output_type": "stream",
     "text": [
      "Collecting scenedetect[opencv]\n",
      "  Downloading scenedetect-0.6.6-py3-none-any.whl.metadata (4.0 kB)\n",
      "Requirement already satisfied: Click in p:\\programs\\dsml\\dsmlenv\\lib\\site-packages (from scenedetect[opencv]) (8.1.8)\n",
      "Requirement already satisfied: numpy in p:\\programs\\dsml\\dsmlenv\\lib\\site-packages (from scenedetect[opencv]) (2.1.1)\n",
      "Requirement already satisfied: platformdirs in p:\\programs\\dsml\\dsmlenv\\lib\\site-packages (from scenedetect[opencv]) (4.3.6)\n",
      "Requirement already satisfied: tqdm in p:\\programs\\dsml\\dsmlenv\\lib\\site-packages (from scenedetect[opencv]) (4.67.1)\n",
      "Requirement already satisfied: opencv-python in p:\\programs\\dsml\\dsmlenv\\lib\\site-packages (from scenedetect[opencv]) (4.11.0.86)\n",
      "Requirement already satisfied: colorama in p:\\programs\\dsml\\dsmlenv\\lib\\site-packages (from Click->scenedetect[opencv]) (0.4.6)\n",
      "Downloading scenedetect-0.6.6-py3-none-any.whl (131 kB)\n",
      "Installing collected packages: scenedetect\n",
      "Successfully installed scenedetect-0.6.6\n",
      "Note: you may need to restart the kernel to use updated packages.\n"
     ]
    }
   ],
   "source": [
    "%pip install --upgrade scenedetect[opencv]"
   ]
  },
  {
   "cell_type": "code",
   "execution_count": null,
   "id": "b72dbc09",
   "metadata": {},
   "outputs": [],
   "source": []
  }
 ],
 "metadata": {
  "kernelspec": {
   "display_name": "DSMLEnv",
   "language": "python",
   "name": "python3"
  },
  "language_info": {
   "codemirror_mode": {
    "name": "ipython",
    "version": 3
   },
   "file_extension": ".py",
   "mimetype": "text/x-python",
   "name": "python",
   "nbconvert_exporter": "python",
   "pygments_lexer": "ipython3",
   "version": "3.13.1"
  }
 },
 "nbformat": 4,
 "nbformat_minor": 5
}

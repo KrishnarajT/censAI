{
 "cells": [
  {
   "cell_type": "code",
   "execution_count": 1,
   "metadata": {},
   "outputs": [
    {
     "name": "stdout",
     "output_type": "stream",
     "text": [
      "Requirement already satisfied: tqdm in p:\\programs\\dsml\\dsmlenv\\lib\\site-packages (4.67.1)\n",
      "Requirement already satisfied: colorama in p:\\programs\\dsml\\dsmlenv\\lib\\site-packages (from tqdm) (0.4.6)\n",
      "Note: you may need to restart the kernel to use updated packages.\n"
     ]
    }
   ],
   "source": [
    "%pip install tqdm"
   ]
  },
  {
   "cell_type": "code",
   "execution_count": 1,
   "metadata": {},
   "outputs": [
    {
     "name": "stderr",
     "output_type": "stream",
     "text": [
      "Processing: 100%|██████████| 100/100 [00:10<00:00,  9.90it/s]\n"
     ]
    }
   ],
   "source": [
    "from tqdm import tqdm\n",
    "import time\n",
    "\n",
    "for i in tqdm(range(100), desc=\"Processing\"):\n",
    "    time.sleep(0.1)  # Simulate work"
   ]
  },
  {
   "cell_type": "code",
   "execution_count": 3,
   "metadata": {},
   "outputs": [
    {
     "name": "stderr",
     "output_type": "stream",
     "text": [
      "Processing: 100%|██████████| 100/100 [00:05<00:00, 19.96it/s]\n"
     ]
    }
   ],
   "source": [
    "from tqdm import tqdm\n",
    "import time\n",
    "\n",
    "progress = tqdm(total=100, desc=\"Processing\")\n",
    "\n",
    "for _ in range(10):\n",
    "    time.sleep(0.5)  # Simulate work\n",
    "    progress.update(10)  # Manually increase by 10%\n",
    "\n",
    "progress.close()  # Close the progress bar when done"
   ]
  },
  {
   "cell_type": "code",
   "execution_count": null,
   "metadata": {},
   "outputs": [
    {
     "ename": "",
     "evalue": "",
     "output_type": "error",
     "traceback": [
      "\u001b[1;31mFailed to start the Kernel. \n",
      "\u001b[1;31mView Jupyter <a href='command:jupyter.viewOutput'>log</a> for further details."
     ]
    }
   ],
   "source": [
    "import curses\n",
    "import time\n",
    "\n",
    "\n",
    "def progress_bar(stdscr):\n",
    "    curses.curs_set(0)\n",
    "    stdscr.nodelay(1)\n",
    "    stdscr.timeout(100)\n",
    "\n",
    "    height, width = stdscr.getmaxyx()\n",
    "    progress_width = width - 10\n",
    "    for i in range(101):\n",
    "        stdscr.clear()\n",
    "        stdscr.addstr(2, 2, f\"Progress: {i}%\")\n",
    "        stdscr.addstr(\n",
    "            4,\n",
    "            2,\n",
    "            \"[\"\n",
    "            + \"#\" * (i * progress_width // 100)\n",
    "            + \" \" * ((100 - i) * progress_width // 100)\n",
    "            + \"]\",\n",
    "        )\n",
    "        stdscr.refresh()\n",
    "        time.sleep(0.05)\n",
    "\n",
    "curses.wrapper(progress_bar)"
   ]
  },
  {
   "cell_type": "code",
   "execution_count": null,
   "metadata": {},
   "outputs": [
    {
     "ename": "",
     "evalue": "",
     "output_type": "error",
     "traceback": [
      "\u001b[1;31mFailed to start the Kernel. \n",
      "\u001b[1;31mView Jupyter <a href='command:jupyter.viewOutput'>log</a> for further details."
     ]
    }
   ],
   "source": [
    "%pip install alive-progress"
   ]
  },
  {
   "cell_type": "code",
   "execution_count": null,
   "metadata": {},
   "outputs": [
    {
     "ename": "",
     "evalue": "",
     "output_type": "error",
     "traceback": [
      "\u001b[1;31mFailed to start the Kernel. \n",
      "\u001b[1;31mView Jupyter <a href='command:jupyter.viewOutput'>log</a> for further details."
     ]
    }
   ],
   "source": [
    "from alive_progress import alive_bar\n",
    "import time\n",
    "\n",
    "with alive_bar(100) as bar:\n",
    "    for _ in range(100):\n",
    "        time.sleep(0.1)\n",
    "        bar()"
   ]
  },
  {
   "cell_type": "code",
   "execution_count": null,
   "metadata": {},
   "outputs": [
    {
     "ename": "",
     "evalue": "",
     "output_type": "error",
     "traceback": [
      "\u001b[1;31mFailed to start the Kernel. \n",
      "\u001b[1;31mView Jupyter <a href='command:jupyter.viewOutput'>log</a> for further details."
     ]
    }
   ],
   "source": [
    "%pip install rich"
   ]
  },
  {
   "cell_type": "code",
   "execution_count": null,
   "metadata": {},
   "outputs": [
    {
     "ename": "",
     "evalue": "",
     "output_type": "error",
     "traceback": [
      "\u001b[1;31mFailed to start the Kernel. \n",
      "\u001b[1;31mView Jupyter <a href='command:jupyter.viewOutput'>log</a> for further details."
     ]
    }
   ],
   "source": [
    "from rich.progress import Progress\n",
    "import time\n",
    "\n",
    "with Progress() as progress:\n",
    "    task = progress.add_task(\"Processing...\", total=100)\n",
    "    for _ in range(100):\n",
    "        time.sleep(0.1)\n",
    "        progress.update(task, advance=1)"
   ]
  },
  {
   "cell_type": "code",
   "execution_count": null,
   "metadata": {},
   "outputs": [
    {
     "ename": "",
     "evalue": "",
     "output_type": "error",
     "traceback": [
      "\u001b[1;31mFailed to start the Kernel. \n",
      "\u001b[1;31mView Jupyter <a href='command:jupyter.viewOutput'>log</a> for further details."
     ]
    }
   ],
   "source": [
    "from tqdm import tqdm\n",
    "import time\n",
    "\n",
    "progress = tqdm(total=100, desc=\"Processing\", dynamic_ncols=True)\n",
    "\n",
    "for i in range(10):\n",
    "    time.sleep(0.5)  # Simulate work\n",
    "    progress.update(10)  # Update progress by 10%\n",
    "    progress.set_postfix(status=f\"Step {i+1}/10\")  # Update status\n",
    "\n",
    "progress.close()"
   ]
  },
  {
   "cell_type": "code",
   "execution_count": null,
   "metadata": {},
   "outputs": [],
   "source": [
    "from tqdm import tqdm\n",
    "import time\n",
    "\n",
    "progress = tqdm(total=100, desc=\"Processing\", dynamic_ncols=True)\n",
    "\n",
    "for i in range(10):\n",
    "    time.sleep(0.5)\n",
    "    progress.update(10)\n",
    "    tqdm.write(\n",
    "        f\"Step {i+1}: Processing chunk {i}\"\n",
    "    )  # Print message without affecting the bar\n",
    "\n",
    "progress.close()"
   ]
  },
  {
   "cell_type": "code",
   "execution_count": null,
   "metadata": {},
   "outputs": [],
   "source": [
    "from tqdm import tqdm\n",
    "import time\n",
    "\n",
    "progress = tqdm(total=100, dynamic_ncols=True)\n",
    "\n",
    "for i in range(10):\n",
    "    time.sleep(0.5)\n",
    "    progress.set_description(f\"Processing Step {i+1}/10\")  # Update description\n",
    "    progress.update(10)\n",
    "\n",
    "progress.close()"
   ]
  },
  {
   "cell_type": "markdown",
   "metadata": {},
   "source": [
    "that is the one"
   ]
  },
  {
   "cell_type": "code",
   "execution_count": null,
   "metadata": {},
   "outputs": [],
   "source": [
    "from tqdm import tqdm\n",
    "import time\n",
    "\n",
    "progress = tqdm(total=100, desc=\"Processing\", dynamic_ncols=True)\n",
    "\n",
    "for i in range(10):\n",
    "    time.sleep(0.5)  # Simulate work\n",
    "    tqdm.write(f\"Step {i+1}/10: Processing chunk {i}\")  # Print log above progress bar\n",
    "    progress.update(10)\n",
    "\n",
    "progress.close()"
   ]
  },
  {
   "cell_type": "code",
   "execution_count": null,
   "metadata": {},
   "outputs": [],
   "source": []
  }
 ],
 "metadata": {
  "kernelspec": {
   "display_name": "Python 3",
   "language": "python",
   "name": "python3"
  },
  "language_info": {
   "codemirror_mode": {
    "name": "ipython",
    "version": 3
   },
   "file_extension": ".py",
   "mimetype": "text/x-python",
   "name": "python",
   "nbconvert_exporter": "python",
   "pygments_lexer": "ipython3",
   "version": "3.13.1"
  }
 },
 "nbformat": 4,
 "nbformat_minor": 2
}

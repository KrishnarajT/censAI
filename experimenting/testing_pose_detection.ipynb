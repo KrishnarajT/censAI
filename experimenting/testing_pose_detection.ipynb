{
 "cells": [
  {
   "cell_type": "code",
   "execution_count": 3,
   "metadata": {},
   "outputs": [],
   "source": [
    "# %pip install ultralytics"
   ]
  },
  {
   "cell_type": "code",
   "execution_count": null,
   "metadata": {},
   "outputs": [
    {
     "name": "stdout",
     "output_type": "stream",
     "text": [
      "Creating new Ultralytics Settings v0.0.6 file  \n",
      "View Ultralytics Settings with 'yolo settings' or at 'C:\\Users\\Krishnaraj\\AppData\\Roaming\\Ultralytics\\settings.json'\n",
      "Update Settings with 'yolo settings key=value', i.e. 'yolo settings runs_dir=path/to/dir'. For help see https://docs.ultralytics.com/quickstart/#ultralytics-settings.\n",
      "Downloading https://github.com/ultralytics/assets/releases/download/v8.3.0/yolov8n-pose.pt to 'yolov8n-pose.pt'...\n"
     ]
    },
    {
     "name": "stderr",
     "output_type": "stream",
     "text": [
      "100%|██████████| 6.52M/6.52M [00:00<00:00, 17.5MB/s]\n"
     ]
    },
    {
     "name": "stdout",
     "output_type": "stream",
     "text": [
      "\n",
      "0: 640x480 1 person, 34.1ms\n",
      "Speed: 2.6ms preprocess, 34.1ms inference, 75.2ms postprocess per image at shape (1, 3, 640, 480)\n",
      "True\n"
     ]
    }
   ],
   "source": [
    "from ultralytics import YOLO\n",
    "import cv2\n",
    "\n",
    "# Load YOLOv8 pose model\n",
    "model = YOLO(\"yolov8n-pose.pt\")\n",
    "\n",
    "\n",
    "def detect_pose(image_path):\n",
    "    image = cv2.imread(image_path)\n",
    "    results = model(image)\n",
    "\n",
    "    for r in results:\n",
    "        for kp in r.keypoints:\n",
    "            if len(kp) > 0:\n",
    "                return True  # Detected human pose, check closeness\n",
    "    return False\n"
   ]
  },
  {
   "cell_type": "code",
   "execution_count": null,
   "metadata": {},
   "outputs": [],
   "source": [
    "print(detect_pose(\"images/8.jpg\"))"
   ]
  },
  {
   "cell_type": "code",
   "execution_count": 5,
   "metadata": {},
   "outputs": [
    {
     "name": "stdout",
     "output_type": "stream",
     "text": [
      "\n",
      "0: 384x640 2 persons, 33.5ms\n",
      "Speed: 4.3ms preprocess, 33.5ms inference, 1.9ms postprocess per image at shape (1, 3, 384, 640)\n",
      "True\n",
      "\n",
      "0: 384x640 2 persons, 5.3ms\n",
      "Speed: 4.1ms preprocess, 5.3ms inference, 1.3ms postprocess per image at shape (1, 3, 384, 640)\n",
      "True\n",
      "\n",
      "0: 384x640 2 persons, 4.3ms\n",
      "Speed: 1.0ms preprocess, 4.3ms inference, 1.4ms postprocess per image at shape (1, 3, 384, 640)\n",
      "True\n",
      "\n",
      "0: 384x640 3 persons, 4.2ms\n",
      "Speed: 1.0ms preprocess, 4.2ms inference, 1.4ms postprocess per image at shape (1, 3, 384, 640)\n",
      "True\n",
      "\n",
      "0: 384x640 2 persons, 4.5ms\n",
      "Speed: 0.9ms preprocess, 4.5ms inference, 1.6ms postprocess per image at shape (1, 3, 384, 640)\n",
      "True\n",
      "\n",
      "0: 384x640 3 persons, 3.7ms\n",
      "Speed: 0.9ms preprocess, 3.7ms inference, 1.3ms postprocess per image at shape (1, 3, 384, 640)\n",
      "True\n",
      "\n",
      "0: 384x640 1 person, 7.9ms\n",
      "Speed: 1.6ms preprocess, 7.9ms inference, 1.4ms postprocess per image at shape (1, 3, 384, 640)\n",
      "True\n",
      "\n",
      "0: 640x480 1 person, 4.0ms\n",
      "Speed: 1.3ms preprocess, 4.0ms inference, 1.6ms postprocess per image at shape (1, 3, 640, 480)\n",
      "True\n"
     ]
    }
   ],
   "source": [
    "for i in range(1, 9):\n",
    "    print(detect_pose(f\"images/{i}.jpg\"))"
   ]
  },
  {
   "cell_type": "code",
   "execution_count": null,
   "metadata": {},
   "outputs": [],
   "source": []
  }
 ],
 "metadata": {
  "kernelspec": {
   "display_name": "Python 3",
   "language": "python",
   "name": "python3"
  },
  "language_info": {
   "codemirror_mode": {
    "name": "ipython",
    "version": 3
   },
   "file_extension": ".py",
   "mimetype": "text/x-python",
   "name": "python",
   "nbconvert_exporter": "python",
   "pygments_lexer": "ipython3",
   "version": "3.13.1"
  }
 },
 "nbformat": 4,
 "nbformat_minor": 2
}

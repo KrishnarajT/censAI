{
 "cells": [
  {
   "cell_type": "code",
   "execution_count": 1,
   "metadata": {},
   "outputs": [
    {
     "name": "stdout",
     "output_type": "stream",
     "text": [
      "Requirement already satisfied: pysrt in p:\\programs\\dsml\\dsmlenv\\lib\\site-packages (1.1.2)\n",
      "Requirement already satisfied: chardet in p:\\programs\\dsml\\dsmlenv\\lib\\site-packages (from pysrt) (5.2.0)\n",
      "Note: you may need to restart the kernel to use updated packages.\n"
     ]
    }
   ],
   "source": [
    "%pip install pysrt\n"
   ]
  },
  {
   "cell_type": "code",
   "execution_count": 4,
   "metadata": {},
   "outputs": [
    {
     "name": "stdout",
     "output_type": "stream",
     "text": [
      "Index: 1\n",
      "Start Time: 00:00:10,553\n",
      "<class 'pysrt.srttime.SubRipTime'>\n",
      "End Time: 00:00:13,223\n",
      "Text: (Gate rumbling, chains rattling)\n",
      "\n",
      "Index: 2\n",
      "Start Time: 00:00:42,419\n",
      "<class 'pysrt.srttime.SubRipTime'>\n",
      "End Time: 00:00:44,546\n",
      "Text: (Horse snorts)\n",
      "\n",
      "Index: 3\n",
      "Start Time: 00:00:57,434\n",
      "<class 'pysrt.srttime.SubRipTime'>\n",
      "End Time: 00:00:59,394\n",
      "Text: (Rumbling, chain rattling)\n",
      "\n"
     ]
    }
   ],
   "source": [
    "import pysrt\n",
    "\n",
    "# Load subtitles from an SRT file\n",
    "subs = pysrt.open(\"ep1.srt\")\n",
    "\n",
    "# Iterate through each subtitle\n",
    "for sub in subs[:3]:\n",
    "    print(f\"Index: {sub.index}\")\n",
    "    print(f\"Start Time: {sub.start}\")\n",
    "    print(type(sub.start))\n",
    "    print(f\"End Time: {sub.end}\")\n",
    "    print(f\"Text: {sub.text}\\n\")"
   ]
  },
  {
   "cell_type": "code",
   "execution_count": null,
   "metadata": {},
   "outputs": [],
   "source": []
  }
 ],
 "metadata": {
  "kernelspec": {
   "display_name": "Python 3",
   "language": "python",
   "name": "python3"
  },
  "language_info": {
   "codemirror_mode": {
    "name": "ipython",
    "version": 3
   },
   "file_extension": ".py",
   "mimetype": "text/x-python",
   "name": "python",
   "nbconvert_exporter": "python",
   "pygments_lexer": "ipython3",
   "version": "3.13.1"
  }
 },
 "nbformat": 4,
 "nbformat_minor": 2
}

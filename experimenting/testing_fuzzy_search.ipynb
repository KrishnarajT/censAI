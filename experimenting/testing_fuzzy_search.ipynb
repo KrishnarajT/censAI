{
 "cells": [
  {
   "cell_type": "code",
   "execution_count": 1,
   "metadata": {},
   "outputs": [
    {
     "name": "stdout",
     "output_type": "stream",
     "text": [
      "Best match: apple pie with score: 94\n"
     ]
    }
   ],
   "source": [
    "# fuzzy search test\n",
    "from thefuzz import process\n",
    "\n",
    "choices = [\"apple pie\", \"banana bread\", \"cherry tart\"]\n",
    "query = \"applepie\"\n",
    "\n",
    "best_match, score = process.extractOne(query, choices)\n",
    "print(f\"Best match: {best_match} with score: {score}\")\n"
   ]
  },
  {
   "cell_type": "code",
   "execution_count": 8,
   "metadata": {},
   "outputs": [
    {
     "name": "stdout",
     "output_type": "stream",
     "text": [
      "Best match: apple S01E04 the cutting.en.srt with score: 86\n"
     ]
    }
   ],
   "source": [
    "\n",
    "choices = [\"apple S01E01.en.srt\", \"apple S01E02.en.srt\", \"apple S01E03.srt\", \"apple S01E04 the cutting.en.srt\"]\n",
    "query = \"apple S01E01.mkv\"\n",
    "\n",
    "best_match, score = process.extractOne(query, choices)\n",
    "print(f\"Best match: {best_match} with score: {score}\")"
   ]
  },
  {
   "cell_type": "code",
   "execution_count": 9,
   "metadata": {},
   "outputs": [
    {
     "name": "stdout",
     "output_type": "stream",
     "text": [
      "Best match: apple S01E01 the cutting of the apple.en.srt with score: 89\n"
     ]
    }
   ],
   "source": [
    "\n",
    "choices = [\"apple S01E01 the cutting of the apple.en.srt\", \"apple S01E02 the eating of the apple.en.srt\", \"apple S01E03 the throwing of the apple.en.srt\"]\n",
    "query = \"apple S01E01 the cutting of the apple.mkv\"\n",
    "\n",
    "best_match, score = process.extractOne(query, choices)\n",
    "print(f\"Best match: {best_match} with score: {score}\")"
   ]
  },
  {
   "cell_type": "code",
   "execution_count": 12,
   "metadata": {},
   "outputs": [
    {
     "name": "stdout",
     "output_type": "stream",
     "text": [
      "Best match: ('apple S01E01.en.srt', 100, 0) with score: 89\n"
     ]
    }
   ],
   "source": [
    "from rapidfuzz import process, fuzz\n",
    "import re\n",
    "\n",
    "choices = [\"apple S01E01.en.srt\", \"apple S01E02.en.srt\", \"apple S01E03.srt\", \"apple S01E04 the cutting.en.srt\"]\n",
    "query = \"apple S01E01.mkv\"\n",
    "\n",
    "def custom_scorer(choice, query, **kwargs):  # Accept additional arguments\n",
    "    \"\"\"Prioritizes exact episode number matches while still considering overall similarity.\"\"\"\n",
    "    base_score = fuzz.ratio(choice, query)\n",
    "\n",
    "    # Extract episode number (SxxExx) from the query and choice\n",
    "    query_episode = re.search(r'S\\d{2}E\\d{2}', query)\n",
    "    choice_episode = re.search(r'S\\d{2}E\\d{2}', choice)\n",
    "\n",
    "    # If episode numbers match exactly, return a guaranteed high score\n",
    "    if query_episode and choice_episode and query_episode.group() == choice_episode.group():\n",
    "        return 100  # Ensure it gets the highest ranking\n",
    "\n",
    "    return base_score  # Otherwise, return normal fuzzy match score\n",
    "\n",
    "# Use custom scorer in extractOne\n",
    "best_match = process.extractOne(query, choices, scorer=custom_scorer)\n",
    "print(f\"Best match: {best_match} with score: {score}\")\n"
   ]
  },
  {
   "cell_type": "code",
   "execution_count": 17,
   "metadata": {},
   "outputs": [
    {
     "name": "stdout",
     "output_type": "stream",
     "text": [
      "Best match: apple S01E01.en.srt with score: 100\n"
     ]
    }
   ],
   "source": [
    "choices = [\"apple S01E01.en.srt\", \"apple S01E02.en.srt\", \"apple S01E03.srt\", \"apple S01E04 the cutting.en.srt\"]\n",
    "query = \"apple S01E01.mkv\"\n",
    "\n",
    "best_match, score, _ = process.extractOne(query, choices, scorer=custom_scorer)\n",
    "print(f\"Best match: {best_match} with score: {score}\")"
   ]
  },
  {
   "cell_type": "code",
   "execution_count": 18,
   "metadata": {},
   "outputs": [
    {
     "name": "stdout",
     "output_type": "stream",
     "text": [
      "Best match: apple S01E01 the cutting of the apple.en.srt with score: 100\n"
     ]
    }
   ],
   "source": [
    "choices = [\"apple S01E01 the cutting of the apple.en.srt\", \"apple S01E02 the eating of the apple.en.srt\", \"apple S01E03 the throwing of the apple.en.srt\"]\n",
    "query = \"apple S01E01 the cutting of the apple.mkv\"\n",
    "\n",
    "best_match, score, _ = process.extractOne(query, choices, scorer=custom_scorer)\n",
    "print(f\"Best match: {best_match} with score: {score}\")"
   ]
  },
  {
   "cell_type": "code",
   "execution_count": null,
   "metadata": {},
   "outputs": [],
   "source": []
  }
 ],
 "metadata": {
  "kernelspec": {
   "display_name": "DSMLEnv",
   "language": "python",
   "name": "python3"
  },
  "language_info": {
   "codemirror_mode": {
    "name": "ipython",
    "version": 3
   },
   "file_extension": ".py",
   "mimetype": "text/x-python",
   "name": "python",
   "nbconvert_exporter": "python",
   "pygments_lexer": "ipython3",
   "version": "3.13.1"
  }
 },
 "nbformat": 4,
 "nbformat_minor": 2
}

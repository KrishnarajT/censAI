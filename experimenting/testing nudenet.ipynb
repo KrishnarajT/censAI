{
 "cells": [
  {
   "cell_type": "code",
   "execution_count": 3,
   "metadata": {},
   "outputs": [],
   "source": [
    "# %pip install nudenet"
   ]
  },
  {
   "cell_type": "code",
   "execution_count": 1,
   "metadata": {},
   "outputs": [],
   "source": [
    "from nudenet import NudeDetector"
   ]
  },
  {
   "cell_type": "code",
   "execution_count": 2,
   "metadata": {},
   "outputs": [],
   "source": [
    "detector = NudeDetector()"
   ]
  },
  {
   "cell_type": "code",
   "execution_count": 3,
   "metadata": {},
   "outputs": [],
   "source": [
    "detector = NudeDetector(model_path=\"../models/640m.onnx\", inference_resolution=640)"
   ]
  },
  {
   "cell_type": "code",
   "execution_count": 4,
   "metadata": {},
   "outputs": [
    {
     "data": {
      "text/plain": [
       "[{'class': 'BUTTOCKS_EXPOSED',\n",
       "  'score': 0.7764570713043213,\n",
       "  'box': [1, 383, 265, 184]},\n",
       " {'class': 'ARMPITS_EXPOSED',\n",
       "  'score': 0.5477641224861145,\n",
       "  'box': [182, 92, 58, 78]}]"
      ]
     },
     "execution_count": 4,
     "metadata": {},
     "output_type": "execute_result"
    }
   ],
   "source": [
    "detector.detect(\"images/5.jpg\")  # Returns list of detections"
   ]
  },
  {
   "cell_type": "code",
   "execution_count": 5,
   "metadata": {},
   "outputs": [
    {
     "data": {
      "text/plain": [
       "[{'class': 'FACE_FEMALE',\n",
       "  'score': 0.8399739265441895,\n",
       "  'box': [296, 179, 143, 151]},\n",
       " {'class': 'FEMALE_BREAST_EXPOSED',\n",
       "  'score': 0.8215513229370117,\n",
       "  'box': [360, 461, 158, 135]},\n",
       " {'class': 'FEMALE_BREAST_EXPOSED',\n",
       "  'score': 0.8120995759963989,\n",
       "  'box': [205, 435, 128, 131]},\n",
       " {'class': 'BELLY_EXPOSED',\n",
       "  'score': 0.7856598496437073,\n",
       "  'box': [199, 623, 216, 261]},\n",
       " {'class': 'FEMALE_GENITALIA_EXPOSED',\n",
       "  'score': 0.5527815818786621,\n",
       "  'box': [191, 914, 91, 91]},\n",
       " {'class': 'ARMPITS_COVERED',\n",
       "  'score': 0.28708910942077637,\n",
       "  'box': [511, 454, 71, 100]}]"
      ]
     },
     "execution_count": 5,
     "metadata": {},
     "output_type": "execute_result"
    }
   ],
   "source": [
    "detector.detect(\"images/8.jpg\")  # Returns list of detections"
   ]
  },
  {
   "cell_type": "code",
   "execution_count": 6,
   "metadata": {},
   "outputs": [
    {
     "data": {
      "text/plain": [
       "'images/8_censored.jpg'"
      ]
     },
     "execution_count": 6,
     "metadata": {},
     "output_type": "execute_result"
    }
   ],
   "source": [
    "\n",
    "detector.censor('images/8.jpg') # returns censored image output path"
   ]
  },
  {
   "cell_type": "code",
   "execution_count": 10,
   "metadata": {},
   "outputs": [
    {
     "data": {
      "text/plain": [
       "[{'class': 'FACE_FEMALE',\n",
       "  'score': 0.44212013483047485,\n",
       "  'box': [124, 198, 467, 449]}]"
      ]
     },
     "execution_count": 10,
     "metadata": {},
     "output_type": "execute_result"
    }
   ],
   "source": [
    "detector.detect(\"images/7.jpg\")  # Returns list of detections"
   ]
  },
  {
   "cell_type": "code",
   "execution_count": 18,
   "metadata": {},
   "outputs": [
    {
     "name": "stdout",
     "output_type": "stream",
     "text": [
      "images/1.jpg\n",
      "True\n",
      "[{'class': 'FACE_FEMALE', 'score': 0.8469792604446411, 'box': [307, 197, 182, 165]}, {'class': 'FEMALE_BREAST_EXPOSED', 'score': 0.8191499710083008, 'box': [396, 475, 167, 164]}, {'class': 'FEMALE_BREAST_EXPOSED', 'score': 0.5688139200210571, 'box': [214, 516, 186, 160]}, {'class': 'ARMPITS_EXPOSED', 'score': 0.5573206543922424, 'box': [495, 389, 93, 75]}]\n",
      "images/2.jpg\n",
      "True\n",
      "[{'class': 'FEMALE_BREAST_EXPOSED', 'score': 0.6490656733512878, 'box': [555, 482, 87, 89]}]\n",
      "images/3.jpg\n",
      "False\n",
      "[]\n",
      "images/4.jpg\n",
      "True\n",
      "[{'class': 'FACE_FEMALE', 'score': 0.6519164443016052, 'box': [641, 197, 268, 293]}]\n",
      "images/5.jpg\n",
      "True\n",
      "[{'class': 'BUTTOCKS_EXPOSED', 'score': 0.7764570713043213, 'box': [1, 383, 265, 184]}, {'class': 'ARMPITS_EXPOSED', 'score': 0.5477641224861145, 'box': [182, 92, 58, 78]}]\n",
      "images/6.jpg\n",
      "True\n",
      "[{'class': 'FACE_FEMALE', 'score': 0.8316818475723267, 'box': [233, 172, 108, 96]}, {'class': 'FEMALE_BREAST_EXPOSED', 'score': 0.6955493092536926, 'box': [326, 347, 91, 107]}, {'class': 'ARMPITS_EXPOSED', 'score': 0.5447971224784851, 'box': [376, 306, 41, 52]}, {'class': 'FEMALE_BREAST_COVERED', 'score': 0.3268062472343445, 'box': [198, 345, 119, 107]}]\n",
      "images/7.jpg\n",
      "True\n",
      "[{'class': 'FACE_FEMALE', 'score': 0.44212013483047485, 'box': [124, 198, 467, 449]}]\n",
      "images/8.jpg\n",
      "True\n",
      "[{'class': 'FACE_FEMALE', 'score': 0.8399739265441895, 'box': [296, 179, 143, 151]}, {'class': 'FEMALE_BREAST_EXPOSED', 'score': 0.8215513229370117, 'box': [360, 461, 158, 135]}, {'class': 'FEMALE_BREAST_EXPOSED', 'score': 0.8120995759963989, 'box': [205, 435, 128, 131]}, {'class': 'BELLY_EXPOSED', 'score': 0.7856598496437073, 'box': [199, 623, 216, 261]}, {'class': 'FEMALE_GENITALIA_EXPOSED', 'score': 0.5527815818786621, 'box': [191, 914, 91, 91]}, {'class': 'ARMPITS_COVERED', 'score': 0.28708910942077637, 'box': [511, 454, 71, 100]}]\n",
      "images/9.jpg\n",
      "False\n",
      "[]\n",
      "images/10.jpg\n",
      "False\n",
      "[]\n",
      "images/11.jpg\n",
      "True\n",
      "[{'class': 'FACE_FEMALE', 'score': 0.7030833959579468, 'box': [526, 92, 1067, 664]}]\n",
      "images/12.jpg\n",
      "True\n",
      "[{'class': 'FACE_FEMALE', 'score': 0.2745141386985779, 'box': [275, 288, 160, 190]}]\n",
      "images/13.jpg\n",
      "True\n",
      "[{'class': 'FACE_MALE', 'score': 0.3654407858848572, 'box': [769, 132, 96, 107]}, {'class': 'FACE_FEMALE', 'score': 0.2852020263671875, 'box': [935, 272, 92, 88]}]\n"
     ]
    }
   ],
   "source": [
    "for i in range(1, 14):\n",
    "    print(f\"images/{i}.jpg\")  # Returns list of detections\n",
    "    print(True if detector.detect(f\"images/{i}.jpg\") else False)  # False if SFW\n",
    "    print(detector.detect(f\"images/{i}.jpg\"))  # Returns list of detections"
   ]
  },
  {
   "cell_type": "code",
   "execution_count": 9,
   "metadata": {},
   "outputs": [
    {
     "ename": "ImportError",
     "evalue": "cannot import name 'NudeClassifier' from 'nudenet' (p:\\Programs\\DSML\\DSMLEnv\\Lib\\site-packages\\nudenet\\__init__.py)",
     "output_type": "error",
     "traceback": [
      "\u001b[1;31m---------------------------------------------------------------------------\u001b[0m",
      "\u001b[1;31mImportError\u001b[0m                               Traceback (most recent call last)",
      "Cell \u001b[1;32mIn[9], line 5\u001b[0m\n\u001b[0;32m      1\u001b[0m \u001b[38;5;66;03m# Example #1\u001b[39;00m\n\u001b[0;32m      2\u001b[0m \u001b[38;5;66;03m# classification.py\u001b[39;00m\n\u001b[0;32m      3\u001b[0m \n\u001b[0;32m      4\u001b[0m \u001b[38;5;66;03m# Import module\u001b[39;00m\n\u001b[1;32m----> 5\u001b[0m \u001b[38;5;28;01mfrom\u001b[39;00m\u001b[38;5;250m \u001b[39m\u001b[38;5;21;01mnudenet\u001b[39;00m\u001b[38;5;250m \u001b[39m\u001b[38;5;28;01mimport\u001b[39;00m NudeClassifier\n\u001b[0;32m      7\u001b[0m \u001b[38;5;66;03m# initialize classifier (downloads the checkpoint file automatically the first time)\u001b[39;00m\n\u001b[0;32m      8\u001b[0m classifier \u001b[38;5;241m=\u001b[39m NudeClassifier()\n",
      "\u001b[1;31mImportError\u001b[0m: cannot import name 'NudeClassifier' from 'nudenet' (p:\\Programs\\DSML\\DSMLEnv\\Lib\\site-packages\\nudenet\\__init__.py)"
     ]
    }
   ],
   "source": [
    "# Example #1\n",
    "# classification.py\n",
    "\n",
    "# Import module\n",
    "from nudenet import NudeClassifier\n",
    "\n",
    "# initialize classifier (downloads the checkpoint file automatically the first time)\n",
    "classifier = NudeClassifier()\n",
    "\n",
    "# A. Classify single image\n",
    "print(classifier.classify(\"images/5.jpg\"))\n",
    "\n",
    "# This would print something like:\n",
    "# {\n",
    "#   './image1.jpg': {\n",
    "#      'safe': 0.00015856953,\n",
    "#      'unsafe': 0.99984145\n",
    "#   }\n",
    "# }\n",
    "\n",
    "# B. Classify multiple images\n",
    "# Returns {'path_to_image_1': {'safe': PROBABILITY, 'unsafe': PROBABILITY}}\n",
    "# Classify multiple images (batch prediction)\n",
    "# batch_size is optional; defaults to 4\n",
    "print(\n",
    "    classifier.classify(\n",
    "        [\"./image1.jpg\", \"./image2.jpg\", \"./image3.jpg\", \"./image4.jpg\"], batch_size=4\n",
    "    )\n",
    ")\n",
    "\n",
    "# {\n",
    "#    './image1.jpg': {\n",
    "#         'safe': 0.00015856922,\n",
    "#         'unsafe': 0.99984145\n",
    "#     },\n",
    "#     './image2.jpg': {\n",
    "#         'safe': 0.019551795,\n",
    "#         'unsafe': 0.9804482\n",
    "#     },\n",
    "#    './image3.jpg': {\n",
    "#         'safe': 0.00052562816,\n",
    "#         'unsafe': 0.99947435\n",
    "#    },\n",
    "#    './image4.jpg': {\n",
    "#         'safe': 3.3454136e-05,\n",
    "#         'unsafe': 0.9999665\n",
    "#    }\n",
    "# }"
   ]
  },
  {
   "cell_type": "code",
   "execution_count": 12,
   "metadata": {},
   "outputs": [],
   "source": [
    "# %pip install ifnude"
   ]
  },
  {
   "cell_type": "code",
   "execution_count": 11,
   "metadata": {},
   "outputs": [
    {
     "name": "stdout",
     "output_type": "stream",
     "text": [
      "[{'box': [0, 382, 266, 558], 'score': 0.9617782831192017, 'label': 'EXPOSED_BUTTOCKS'}]\n"
     ]
    }
   ],
   "source": [
    "from ifnude import detect\n",
    "\n",
    "print(detect(\"images/5.jpg\"))"
   ]
  },
  {
   "cell_type": "code",
   "execution_count": 13,
   "metadata": {},
   "outputs": [
    {
     "name": "stdout",
     "output_type": "stream",
     "text": [
      "Collecting nudity\n",
      "  Using cached nudity-0.2.3.tar.gz (15.8 MB)\n",
      "  Installing build dependencies: started\n",
      "  Installing build dependencies: finished with status 'done'\n",
      "  Getting requirements to build wheel: started\n",
      "  Getting requirements to build wheel: finished with status 'done'\n",
      "  Preparing metadata (pyproject.toml): started\n",
      "  Preparing metadata (pyproject.toml): finished with status 'done'\n",
      "INFO: pip is looking at multiple versions of nudity to determine which version is compatible with other requirements. This could take a while.\n",
      "  Using cached nudity-0.2.2.tar.gz (15.8 MB)\n",
      "  Installing build dependencies: started\n",
      "  Installing build dependencies: finished with status 'done'\n",
      "  Getting requirements to build wheel: started\n",
      "  Getting requirements to build wheel: finished with status 'done'\n",
      "  Preparing metadata (pyproject.toml): started\n",
      "  Preparing metadata (pyproject.toml): finished with status 'done'\n",
      "  Using cached nudity-0.2.1.tar.gz (15.8 MB)\n",
      "  Installing build dependencies: started\n",
      "  Installing build dependencies: finished with status 'done'\n",
      "  Getting requirements to build wheel: started\n",
      "  Getting requirements to build wheel: finished with status 'done'\n",
      "  Preparing metadata (pyproject.toml): started\n",
      "  Preparing metadata (pyproject.toml): finished with status 'done'\n",
      "  Using cached nudity-0.2.0.tar.gz (15.9 MB)\n",
      "  Installing build dependencies: started\n",
      "  Installing build dependencies: finished with status 'done'\n",
      "  Getting requirements to build wheel: started\n",
      "  Getting requirements to build wheel: finished with status 'done'\n",
      "  Preparing metadata (pyproject.toml): started\n",
      "  Preparing metadata (pyproject.toml): finished with status 'done'\n",
      "  Using cached nudity-0.1.9.tar.gz (15.9 MB)\n",
      "  Installing build dependencies: started\n",
      "  Installing build dependencies: finished with status 'done'\n",
      "  Getting requirements to build wheel: started\n",
      "  Getting requirements to build wheel: finished with status 'done'\n",
      "  Preparing metadata (pyproject.toml): started\n",
      "  Preparing metadata (pyproject.toml): finished with status 'done'\n",
      "  Using cached nudity-0.1.8.tar.gz (15.9 MB)\n",
      "  Installing build dependencies: started\n",
      "  Installing build dependencies: finished with status 'done'\n",
      "  Getting requirements to build wheel: started\n",
      "  Getting requirements to build wheel: finished with status 'done'\n",
      "  Preparing metadata (pyproject.toml): started\n",
      "  Preparing metadata (pyproject.toml): finished with status 'done'\n",
      "  Using cached nudity-0.1.7.tar.gz (15.9 MB)\n",
      "  Installing build dependencies: started\n",
      "  Installing build dependencies: finished with status 'done'\n",
      "  Getting requirements to build wheel: started\n",
      "  Getting requirements to build wheel: finished with status 'done'\n",
      "  Preparing metadata (pyproject.toml): started\n",
      "  Preparing metadata (pyproject.toml): finished with status 'done'\n",
      "  Using cached nudity-0.1.6.tar.gz (15.9 MB)\n",
      "  Installing build dependencies: started\n",
      "  Installing build dependencies: finished with status 'done'\n",
      "  Getting requirements to build wheel: started\n",
      "  Getting requirements to build wheel: finished with status 'done'\n",
      "  Preparing metadata (pyproject.toml): started\n",
      "  Preparing metadata (pyproject.toml): finished with status 'done'\n",
      "INFO: pip is still looking at multiple versions of nudity to determine which version is compatible with other requirements. This could take a while.\n",
      "  Using cached nudity-0.1.5.tar.gz (15.9 MB)\n",
      "  Installing build dependencies: started\n",
      "  Installing build dependencies: finished with status 'done'\n",
      "  Getting requirements to build wheel: started\n",
      "  Getting requirements to build wheel: finished with status 'done'\n",
      "  Preparing metadata (pyproject.toml): started\n",
      "  Preparing metadata (pyproject.toml): finished with status 'done'\n",
      "  Using cached nudity-0.1.4.tar.gz (15.9 MB)\n",
      "  Installing build dependencies: started\n",
      "  Installing build dependencies: finished with status 'done'\n",
      "  Getting requirements to build wheel: started\n",
      "  Getting requirements to build wheel: finished with status 'done'\n",
      "  Preparing metadata (pyproject.toml): started\n",
      "  Preparing metadata (pyproject.toml): finished with status 'done'\n",
      "  Using cached nudity-0.1.3.tar.gz (15.9 MB)\n",
      "  Installing build dependencies: started\n",
      "  Installing build dependencies: finished with status 'done'\n",
      "  Getting requirements to build wheel: started\n",
      "  Getting requirements to build wheel: finished with status 'done'\n",
      "  Preparing metadata (pyproject.toml): started\n",
      "  Preparing metadata (pyproject.toml): finished with status 'done'\n",
      "  Using cached nudity-0.1.2.tar.gz (15.9 MB)\n",
      "  Installing build dependencies: started\n",
      "  Installing build dependencies: finished with status 'done'\n",
      "  Getting requirements to build wheel: started\n",
      "  Getting requirements to build wheel: finished with status 'done'\n",
      "  Preparing metadata (pyproject.toml): started\n",
      "  Preparing metadata (pyproject.toml): finished with status 'done'\n",
      "  Using cached nudity-0.1.1.tar.gz (15.9 MB)\n",
      "  Installing build dependencies: started\n",
      "  Installing build dependencies: finished with status 'done'\n",
      "  Getting requirements to build wheel: started\n",
      "  Getting requirements to build wheel: finished with status 'done'\n",
      "  Preparing metadata (pyproject.toml): started\n",
      "  Preparing metadata (pyproject.toml): finished with status 'done'\n",
      "INFO: This is taking longer than usual. You might need to provide the dependency resolver with stricter constraints to reduce runtime. See https://pip.pypa.io/warnings/backtracking for guidance. If you want to abort this run, press Ctrl + C.\n",
      "  Using cached nudity-0.1.0.tar.gz (2.1 kB)\n",
      "  Installing build dependencies: started\n",
      "  Installing build dependencies: finished with status 'done'\n",
      "  Getting requirements to build wheel: started\n",
      "  Getting requirements to build wheel: finished with status 'done'\n",
      "  Preparing metadata (pyproject.toml): started\n",
      "  Preparing metadata (pyproject.toml): finished with status 'done'\n",
      "\n",
      "The conflict is caused by:\n",
      "    nudity 0.2.3 depends on tensorflow\n",
      "    nudity 0.2.2 depends on tensorflow\n",
      "    nudity 0.2.1 depends on tensorflow\n",
      "    nudity 0.2.0 depends on tensorflow\n",
      "    nudity 0.1.9 depends on tensorflow\n",
      "    nudity 0.1.8 depends on tensorflow\n",
      "    nudity 0.1.7 depends on tensorflow\n",
      "    nudity 0.1.6 depends on tensorflow\n",
      "    nudity 0.1.5 depends on tensorflow\n",
      "    nudity 0.1.4 depends on tensorflow\n",
      "    nudity 0.1.3 depends on tensorflow\n",
      "    nudity 0.1.2 depends on tensorflow\n",
      "    nudity 0.1.1 depends on tensorflow\n",
      "    nudity 0.1.0 depends on tensorflow\n",
      "\n",
      "To fix this you could try to:\n",
      "1. loosen the range of package versions you've specified\n",
      "2. remove package versions to allow pip to attempt to solve the dependency conflict\n",
      "\n",
      "Note: you may need to restart the kernel to use updated packages.\n"
     ]
    },
    {
     "name": "stderr",
     "output_type": "stream",
     "text": [
      "ERROR: Cannot install nudity==0.1.0, nudity==0.1.1, nudity==0.1.2, nudity==0.1.3, nudity==0.1.4, nudity==0.1.5, nudity==0.1.6, nudity==0.1.7, nudity==0.1.8, nudity==0.1.9, nudity==0.2.0, nudity==0.2.1, nudity==0.2.2 and nudity==0.2.3 because these package versions have conflicting dependencies.\n",
      "ERROR: ResolutionImpossible: for help visit https://pip.pypa.io/en/latest/topics/dependency-resolution/#dealing-with-dependency-conflicts\n"
     ]
    }
   ],
   "source": [
    "%pip install nudity"
   ]
  },
  {
   "cell_type": "code",
   "execution_count": 14,
   "metadata": {},
   "outputs": [
    {
     "ename": "ModuleNotFoundError",
     "evalue": "No module named 'nudity'",
     "output_type": "error",
     "traceback": [
      "\u001b[1;31m---------------------------------------------------------------------------\u001b[0m",
      "\u001b[1;31mModuleNotFoundError\u001b[0m                       Traceback (most recent call last)",
      "Cell \u001b[1;32mIn[14], line 1\u001b[0m\n\u001b[1;32m----> 1\u001b[0m \u001b[38;5;28;01mfrom\u001b[39;00m\u001b[38;5;250m \u001b[39m\u001b[38;5;21;01mnudity\u001b[39;00m\u001b[38;5;250m \u001b[39m\u001b[38;5;28;01mimport\u001b[39;00m Nudity\n\u001b[0;32m      3\u001b[0m nudity \u001b[38;5;241m=\u001b[39m Nudity()\n\u001b[0;32m      4\u001b[0m \u001b[38;5;28mprint\u001b[39m(nudity\u001b[38;5;241m.\u001b[39mhas(\u001b[38;5;124m\"\u001b[39m\u001b[38;5;124mimages/5.jpg\u001b[39m\u001b[38;5;124m\"\u001b[39m))\n",
      "\u001b[1;31mModuleNotFoundError\u001b[0m: No module named 'nudity'"
     ]
    }
   ],
   "source": [
    "from nudity import Nudity\n",
    "\n",
    "nudity = Nudity()\n",
    "print(nudity.has(\"images/5.jpg\"))\n",
    "# gives you True or False\n",
    "\n",
    "print(nudity.score(\"images/5.jpg\"))\n",
    "# gives you nudity score 0 - 1"
   ]
  },
  {
   "cell_type": "code",
   "execution_count": 23,
   "metadata": {},
   "outputs": [
    {
     "name": "stdout",
     "output_type": "stream",
     "text": [
      "Collecting nudepy\n",
      "  Using cached nudepy-0.5.1.tar.gz (35 kB)\n",
      "  Installing build dependencies: started\n",
      "  Installing build dependencies: finished with status 'done'\n",
      "  Getting requirements to build wheel: started\n",
      "  Getting requirements to build wheel: finished with status 'done'\n",
      "  Preparing metadata (pyproject.toml): started\n",
      "  Preparing metadata (pyproject.toml): finished with status 'done'\n",
      "Requirement already satisfied: pillow in p:\\programs\\dsml\\dsmlenv\\lib\\site-packages (from nudepy) (11.1.0)\n",
      "Building wheels for collected packages: nudepy\n",
      "  Building wheel for nudepy (pyproject.toml): started\n",
      "  Building wheel for nudepy (pyproject.toml): finished with status 'error'\n",
      "Failed to build nudepy\n",
      "Note: you may need to restart the kernel to use updated packages.\n"
     ]
    },
    {
     "name": "stderr",
     "output_type": "stream",
     "text": [
      "  error: subprocess-exited-with-error\n",
      "  \n",
      "  × Building wheel for nudepy (pyproject.toml) did not run successfully.\n",
      "  │ exit code: 1\n",
      "  ╰─> [25 lines of output]\n",
      "      C:\\Users\\Krishnaraj\\AppData\\Local\\Temp\\pip-build-env-0pc_k5x5\\overlay\\Lib\\site-packages\\setuptools\\dist.py:759: SetuptoolsDeprecationWarning: License classifiers are deprecated.\n",
      "      !!\n",
      "      \n",
      "              ********************************************************************************\n",
      "              Please consider removing the following classifiers in favor of a SPDX license expression:\n",
      "      \n",
      "              License :: OSI Approved :: MIT License\n",
      "      \n",
      "              See https://packaging.python.org/en/latest/guides/writing-pyproject-toml/#license for details.\n",
      "              ********************************************************************************\n",
      "      \n",
      "      !!\n",
      "        self._finalize_license_expression()\n",
      "      running bdist_wheel\n",
      "      running build\n",
      "      running build_py\n",
      "      creating build\\lib.win-amd64-cpython-313\n",
      "      copying nude.py -> build\\lib.win-amd64-cpython-313\n",
      "      running build_ext\n",
      "      building 'skin_classifier' extension\n",
      "      creating build\\temp.win-amd64-cpython-313\\Release\n",
      "      \"C:\\Program Files (x86)\\Microsoft Visual Studio\\2022\\BuildTools\\VC\\Tools\\MSVC\\14.43.34808\\bin\\HostX86\\x64\\cl.exe\" /c /nologo /O2 /W3 /GL /DNDEBUG /MD -Ip:\\Programs\\DSML\\DSMLEnv\\include -IC:\\Python313\\include -IC:\\Python313\\Include \"-IC:\\Program Files (x86)\\Microsoft Visual Studio\\2022\\BuildTools\\VC\\Tools\\MSVC\\14.43.34808\\include\" \"-IC:\\Program Files (x86)\\Microsoft Visual Studio\\2022\\BuildTools\\VC\\Auxiliary\\VS\\include\" \"-IC:\\Program Files (x86)\\Windows Kits\\10\\include\\10.0.22621.0\\ucrt\" \"-IC:\\Program Files (x86)\\Windows Kits\\10\\\\include\\10.0.22621.0\\\\um\" \"-IC:\\Program Files (x86)\\Windows Kits\\10\\\\include\\10.0.22621.0\\\\shared\" \"-IC:\\Program Files (x86)\\Windows Kits\\10\\\\include\\10.0.22621.0\\\\winrt\" \"-IC:\\Program Files (x86)\\Windows Kits\\10\\\\include\\10.0.22621.0\\\\cppwinrt\" /Tcskin_classifier.c /Fobuild\\temp.win-amd64-cpython-313\\Release\\skin_classifier.obj\n",
      "      skin_classifier.c\n",
      "      skin_classifier.c(196): fatal error C1083: Cannot open include file: 'longintrepr.h': No such file or directory\n",
      "      error: command 'C:\\\\Program Files (x86)\\\\Microsoft Visual Studio\\\\2022\\\\BuildTools\\\\VC\\\\Tools\\\\MSVC\\\\14.43.34808\\\\bin\\\\HostX86\\\\x64\\\\cl.exe' failed with exit code 2\n",
      "      [end of output]\n",
      "  \n",
      "  note: This error originates from a subprocess, and is likely not a problem with pip.\n",
      "  ERROR: Failed building wheel for nudepy\n",
      "ERROR: Failed to build installable wheels for some pyproject.toml based projects (nudepy)\n"
     ]
    }
   ],
   "source": [
    "%pip install --upgrade nudepy"
   ]
  },
  {
   "cell_type": "code",
   "execution_count": 24,
   "metadata": {},
   "outputs": [
    {
     "ename": "ModuleNotFoundError",
     "evalue": "No module named 'nude'",
     "output_type": "error",
     "traceback": [
      "\u001b[1;31m---------------------------------------------------------------------------\u001b[0m",
      "\u001b[1;31mModuleNotFoundError\u001b[0m                       Traceback (most recent call last)",
      "Cell \u001b[1;32mIn[24], line 1\u001b[0m\n\u001b[1;32m----> 1\u001b[0m \u001b[38;5;28;01mimport\u001b[39;00m\u001b[38;5;250m \u001b[39m\u001b[38;5;21;01mnude\u001b[39;00m\n\u001b[0;32m      2\u001b[0m \u001b[38;5;28;01mfrom\u001b[39;00m\u001b[38;5;250m \u001b[39m\u001b[38;5;21;01mnude\u001b[39;00m\u001b[38;5;250m \u001b[39m\u001b[38;5;28;01mimport\u001b[39;00m Nude\n\u001b[0;32m      4\u001b[0m \u001b[38;5;28mprint\u001b[39m(nude\u001b[38;5;241m.\u001b[39mis_nude(\u001b[38;5;124m\"\u001b[39m\u001b[38;5;124mimages/5.jpg\u001b[39m\u001b[38;5;124m\"\u001b[39m))\n",
      "\u001b[1;31mModuleNotFoundError\u001b[0m: No module named 'nude'"
     ]
    }
   ],
   "source": [
    "import nude\n",
    "from nude import Nude\n",
    "\n",
    "print(nude.is_nude(\"images/5.jpg\"))\n"
   ]
  },
  {
   "cell_type": "code",
   "execution_count": 19,
   "metadata": {},
   "outputs": [
    {
     "ename": "NameError",
     "evalue": "name 'nude' is not defined",
     "output_type": "error",
     "traceback": [
      "\u001b[1;31m---------------------------------------------------------------------------\u001b[0m",
      "\u001b[1;31mNameError\u001b[0m                                 Traceback (most recent call last)",
      "Cell \u001b[1;32mIn[19], line 2\u001b[0m\n\u001b[0;32m      1\u001b[0m \u001b[38;5;28;01mfor\u001b[39;00m i \u001b[38;5;129;01min\u001b[39;00m \u001b[38;5;28mrange\u001b[39m(\u001b[38;5;241m1\u001b[39m, \u001b[38;5;241m14\u001b[39m):\n\u001b[1;32m----> 2\u001b[0m     \u001b[38;5;28mprint\u001b[39m(\u001b[43mnude\u001b[49m\u001b[38;5;241m.\u001b[39mis_nude(\u001b[38;5;124mf\u001b[39m\u001b[38;5;124m\"\u001b[39m\u001b[38;5;124mimages/\u001b[39m\u001b[38;5;132;01m{\u001b[39;00mi\u001b[38;5;132;01m}\u001b[39;00m\u001b[38;5;124m.jpg\u001b[39m\u001b[38;5;124m\"\u001b[39m))  \u001b[38;5;66;03m# False if SFW\u001b[39;00m\n",
      "\u001b[1;31mNameError\u001b[0m: name 'nude' is not defined"
     ]
    }
   ],
   "source": [
    "\n",
    "for i in range(1, 14):\n",
    "    print(nude.is_nude(f\"images/{i}.jpg\"))  # False if SFW"
   ]
  },
  {
   "cell_type": "code",
   "execution_count": 6,
   "metadata": {},
   "outputs": [
    {
     "name": "stderr",
     "output_type": "stream",
     "text": [
      "p:\\Programs\\DSML\\DSMLEnv\\Lib\\site-packages\\tqdm\\auto.py:21: TqdmWarning: IProgress not found. Please update jupyter and ipywidgets. See https://ipywidgets.readthedocs.io/en/stable/user_install.html\n",
      "  from .autonotebook import tqdm as notebook_tqdm\n"
     ]
    },
    {
     "name": "stdout",
     "output_type": "stream",
     "text": [
      "Probabilities: tensor([0.0576, 0.9424])\n",
      "Class: SFW\n"
     ]
    }
   ],
   "source": [
    "from urllib.request import urlopen\n",
    "from PIL import Image\n",
    "import timm\n",
    "import torch\n",
    "\n",
    "img = Image.open(\n",
    "    urlopen(\n",
    "        \"https://huggingface.co/datasets/huggingface/documentation-images/resolve/main/beignets-task-guide.png\"\n",
    "    )\n",
    ")\n",
    "\n",
    "model = timm.create_model(\"hf_hub:Marqo/nsfw-image-detection-384\", pretrained=True)\n",
    "model = model.eval()\n",
    "\n",
    "data_config = timm.data.resolve_model_data_config(model)\n",
    "transforms = timm.data.create_transform(**data_config, is_training=False)\n",
    "\n",
    "with torch.no_grad():\n",
    "    output = model(transforms(img).unsqueeze(0)).softmax(dim=-1).cpu()\n",
    "\n",
    "class_names = model.pretrained_cfg[\"label_names\"]\n",
    "print(\"Probabilities:\", output[0])\n",
    "print(\"Class:\", class_names[output[0].argmax()])"
   ]
  },
  {
   "cell_type": "code",
   "execution_count": 9,
   "metadata": {},
   "outputs": [
    {
     "name": "stdout",
     "output_type": "stream",
     "text": [
      "Probabilities: tensor([0.8963, 0.1037])\n",
      "Class: NSFW\n"
     ]
    }
   ],
   "source": [
    "def classify_image(image_path):\n",
    "    img = Image.open(image_path)\n",
    "\n",
    "    with torch.no_grad():\n",
    "        output = model(transforms(img).unsqueeze(0)).softmax(dim=-1).cpu()\n",
    "\n",
    "    probabilities = output[0]\n",
    "    predicted_class = class_names[probabilities.argmax()]\n",
    "    \n",
    "    return probabilities, predicted_class\n",
    "\n",
    "# Example usage:\n",
    "image_path = \"images/7.jpg\"\n",
    "probabilities, predicted_class = classify_image(image_path)\n",
    "print(\"Probabilities:\", probabilities)\n",
    "print(\"Class:\", predicted_class)"
   ]
  },
  {
   "cell_type": "code",
   "execution_count": 25,
   "metadata": {},
   "outputs": [
    {
     "name": "stdout",
     "output_type": "stream",
     "text": [
      "1 (tensor([0.9411, 0.0589]), 'NSFW')\n",
      "2 (tensor([0.3914, 0.6086]), 'SFW')\n",
      "3 (tensor([0.0683, 0.9317]), 'SFW')\n",
      "4 (tensor([0.0433, 0.9567]), 'SFW')\n",
      "5 (tensor([0.0739, 0.9261]), 'SFW')\n",
      "6 (tensor([0.8389, 0.1611]), 'NSFW')\n",
      "7 (tensor([0.8963, 0.1037]), 'NSFW')\n",
      "8 (tensor([0.9387, 0.0613]), 'NSFW')\n",
      "9 (tensor([0.2386, 0.7614]), 'SFW')\n",
      "10 (tensor([0.1027, 0.8973]), 'SFW')\n",
      "11 (tensor([0.7832, 0.2168]), 'NSFW')\n",
      "12 (tensor([0.0631, 0.9369]), 'SFW')\n",
      "13 (tensor([0.0630, 0.9370]), 'SFW')\n"
     ]
    }
   ],
   "source": [
    "for i in range(1, 14):\n",
    "    print(i, classify_image(f\"images/{i}.jpg\"))  # False if SFW"
   ]
  },
  {
   "cell_type": "code",
   "execution_count": null,
   "metadata": {},
   "outputs": [],
   "source": [
    "for i in range(1, 9):\n",
    "    print(classify_image(f\"images/{i}.jpg\"))  # False if SFW"
   ]
  }
 ],
 "metadata": {
  "kernelspec": {
   "display_name": "DSMLEnv",
   "language": "python",
   "name": "python3"
  },
  "language_info": {
   "codemirror_mode": {
    "name": "ipython",
    "version": 3
   },
   "file_extension": ".py",
   "mimetype": "text/x-python",
   "name": "python",
   "nbconvert_exporter": "python",
   "pygments_lexer": "ipython3",
   "version": "3.13.1"
  }
 },
 "nbformat": 4,
 "nbformat_minor": 2
}

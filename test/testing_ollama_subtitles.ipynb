{
 "cells": [
  {
   "cell_type": "code",
   "execution_count": 2,
   "metadata": {},
   "outputs": [
    {
     "name": "stdout",
     "output_type": "stream",
     "text": [
      "Yes, there are a few instances where NSFW (Not Safe For Work) content is mentioned or implied. Specifically:\n",
      "\n",
      "* In line 293, the description of Tyrion as a \"drunken little lecher\" could be considered explicit.\n",
      "* Line 294 mentions that Tyrion is \"prone to all manner of perversions\", which also implies explicit behavior.\n",
      "\n",
      "While the context is part of a fantasy story and not directly referencing real-world NSFW topics, it's worth noting that some content may still be sensitive or uncomfortable for certain audiences. However, in this specific transcription, no explicit language or actions are described, so it's unlikely to be censored for those reasons.\n",
      "\n",
      "If you're looking to avoid any potentially awkward or mature themes, you could consider toning down the description of Tyrion's behavior or using more general terms. But based on the provided text alone, no explicit content is explicitly stated.\n"
     ]
    }
   ],
   "source": [
    "import ollama\n",
    "\n",
    "with open(\"./ep1 short.srt\", \"r\", encoding=\"utf-8\") as file:\n",
    "    file_content = file.read()\n",
    "\n",
    "response = ollama.chat(\n",
    "    model=\"llama3.2\",  # Replace with your model\n",
    "    messages=[{\"role\": \"user\", \"content\": file_content + \"Do you think there could be something NSFW here that should be censored? if so which part would you suggest\"}]\n",
    ")\n",
    "\n",
    "print(response['message']['content'])\n"
   ]
  },
  {
   "cell_type": "code",
   "execution_count": null,
   "metadata": {},
   "outputs": [],
   "source": []
  }
 ],
 "metadata": {
  "kernelspec": {
   "display_name": ".venv",
   "language": "python",
   "name": "python3"
  },
  "language_info": {
   "codemirror_mode": {
    "name": "ipython",
    "version": 3
   },
   "file_extension": ".py",
   "mimetype": "text/x-python",
   "name": "python",
   "nbconvert_exporter": "python",
   "pygments_lexer": "ipython3",
   "version": "3.12.8"
  }
 },
 "nbformat": 4,
 "nbformat_minor": 2
}

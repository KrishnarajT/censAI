{
 "cells": [
  {
   "cell_type": "markdown",
   "metadata": {},
   "source": [
    "subtitles gotta be censored, but then they have to look decent too. this is probably the only place we could use local llms"
   ]
  },
  {
   "cell_type": "code",
   "execution_count": 10,
   "metadata": {},
   "outputs": [
    {
     "name": "stdout",
     "output_type": "stream",
     "text": [
      "\"Someone to do his job while he's off exploring the wilderness or hunting wild animals.\"\n"
     ]
    }
   ],
   "source": [
    "import ollama\n",
    "\n",
    "with open(\"./ep1 short.srt\", \"r\", encoding=\"utf-8\") as file:\n",
    "    file_content = file.read()\n",
    "\n",
    "response = ollama.chat(\n",
    "    model=\"llama3.1\",\n",
    "    messages=[{\"role\": \"user\", \"content\": \"'someone to do his job while he's off fucking boars and hunting whores.' Can you remove profanity from this sentence and still make sense of it. I want read this to a 13 year old. so use gentle language. Try to maintain original meaning. Only reply with the modified sentence within quotes\"}]\n",
    ")\n",
    "\n",
    "print(response['message']['content'])\n"
   ]
  },
  {
   "cell_type": "code",
   "execution_count": null,
   "metadata": {},
   "outputs": [],
   "source": [
    "# now we can just cut out the audio completely"
   ]
  }
 ],
 "metadata": {
  "kernelspec": {
   "display_name": ".venv",
   "language": "python",
   "name": "python3"
  },
  "language_info": {
   "codemirror_mode": {
    "name": "ipython",
    "version": 3
   },
   "file_extension": ".py",
   "mimetype": "text/x-python",
   "name": "python",
   "nbconvert_exporter": "python",
   "pygments_lexer": "ipython3",
   "version": "3.12.8"
  }
 },
 "nbformat": 4,
 "nbformat_minor": 2
}

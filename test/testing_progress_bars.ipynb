{
 "cells": [
  {
   "cell_type": "code",
   "execution_count": 1,
   "metadata": {},
   "outputs": [
    {
     "name": "stdout",
     "output_type": "stream",
     "text": [
      "Requirement already satisfied: tqdm in p:\\programs\\dsml\\dsmlenv\\lib\\site-packages (4.67.1)\n",
      "Requirement already satisfied: colorama in p:\\programs\\dsml\\dsmlenv\\lib\\site-packages (from tqdm) (0.4.6)\n",
      "Note: you may need to restart the kernel to use updated packages.\n"
     ]
    }
   ],
   "source": [
    "%pip install tqdm"
   ]
  },
  {
   "cell_type": "code",
   "execution_count": 2,
   "metadata": {},
   "outputs": [
    {
     "name": "stderr",
     "output_type": "stream",
     "text": [
      "Processing: 100%|██████████| 100/100 [00:10<00:00,  9.90it/s]\n"
     ]
    }
   ],
   "source": [
    "from tqdm import tqdm\n",
    "import time\n",
    "\n",
    "for i in tqdm(range(100), desc=\"Processing\"):\n",
    "    time.sleep(0.1)  # Simulate work"
   ]
  },
  {
   "cell_type": "code",
   "execution_count": 6,
   "metadata": {},
   "outputs": [
    {
     "name": "stderr",
     "output_type": "stream",
     "text": [
      "Processing: 100%|██████████| 100/100 [00:05<00:00, 19.96it/s]\n"
     ]
    }
   ],
   "source": [
    "from tqdm import tqdm\n",
    "import time\n",
    "\n",
    "progress = tqdm(total=100, desc=\"Processing\")\n",
    "\n",
    "for _ in range(10):\n",
    "    time.sleep(0.5)  # Simulate work\n",
    "    progress.update(10)  # Manually increase by 10%\n",
    "\n",
    "progress.close()  # Close the progress bar when done"
   ]
  },
  {
   "cell_type": "code",
   "execution_count": null,
   "metadata": {},
   "outputs": [
    {
     "ename": "",
     "evalue": "",
     "output_type": "error",
     "traceback": [
      "\u001b[1;31mThe Kernel crashed while executing code in the current cell or a previous cell. \n",
      "\u001b[1;31mPlease review the code in the cell(s) to identify a possible cause of the failure. \n",
      "\u001b[1;31mClick <a href='https://aka.ms/vscodeJupyterKernelCrash'>here</a> for more info. \n",
      "\u001b[1;31mView Jupyter <a href='command:jupyter.viewOutput'>log</a> for further details."
     ]
    }
   ],
   "source": [
    "import curses\n",
    "import time\n",
    "\n",
    "\n",
    "def progress_bar(stdscr):\n",
    "    curses.curs_set(0)\n",
    "    stdscr.nodelay(1)\n",
    "    stdscr.timeout(100)\n",
    "\n",
    "    height, width = stdscr.getmaxyx()\n",
    "    progress_width = width - 10\n",
    "    for i in range(101):\n",
    "        stdscr.clear()\n",
    "        stdscr.addstr(2, 2, f\"Progress: {i}%\")\n",
    "        stdscr.addstr(\n",
    "            4,\n",
    "            2,\n",
    "            \"[\"\n",
    "            + \"#\" * (i * progress_width // 100)\n",
    "            + \" \" * ((100 - i) * progress_width // 100)\n",
    "            + \"]\",\n",
    "        )\n",
    "        stdscr.refresh()\n",
    "        time.sleep(0.05)\n",
    "\n",
    "\n",
    "curses.wrapper(progress_bar)"
   ]
  },
  {
   "cell_type": "code",
   "execution_count": 1,
   "metadata": {},
   "outputs": [
    {
     "name": "stdout",
     "output_type": "stream",
     "text": [
      "Collecting alive-progress\n",
      "  Downloading alive_progress-3.2.0-py3-none-any.whl.metadata (70 kB)\n",
      "Collecting about-time==4.2.1 (from alive-progress)\n",
      "  Downloading about_time-4.2.1-py3-none-any.whl.metadata (13 kB)\n",
      "Collecting grapheme==0.6.0 (from alive-progress)\n",
      "  Downloading grapheme-0.6.0.tar.gz (207 kB)\n",
      "  Installing build dependencies: started\n",
      "  Installing build dependencies: finished with status 'done'\n",
      "  Getting requirements to build wheel: started\n",
      "  Getting requirements to build wheel: finished with status 'done'\n",
      "  Preparing metadata (pyproject.toml): started\n",
      "  Preparing metadata (pyproject.toml): finished with status 'done'\n",
      "Downloading alive_progress-3.2.0-py3-none-any.whl (77 kB)\n",
      "Downloading about_time-4.2.1-py3-none-any.whl (13 kB)\n",
      "Building wheels for collected packages: grapheme\n",
      "  Building wheel for grapheme (pyproject.toml): started\n",
      "  Building wheel for grapheme (pyproject.toml): finished with status 'done'\n",
      "  Created wheel for grapheme: filename=grapheme-0.6.0-py3-none-any.whl size=210171 sha256=2870fe361b1eef361ced7ef040ed12b7a880120f746253b84db4ecd6d14cbfca\n",
      "  Stored in directory: c:\\users\\krishnaraj\\appdata\\local\\pip\\cache\\wheels\\e0\\96\\66\\ab223d7755e401981953430b7f2d562afba01a71296a74c893\n",
      "Successfully built grapheme\n",
      "Installing collected packages: grapheme, about-time, alive-progress\n",
      "Successfully installed about-time-4.2.1 alive-progress-3.2.0 grapheme-0.6.0\n",
      "Note: you may need to restart the kernel to use updated packages.\n"
     ]
    }
   ],
   "source": [
    "%pip install alive-progress\n"
   ]
  },
  {
   "cell_type": "code",
   "execution_count": 2,
   "metadata": {},
   "outputs": [
    {
     "name": "stdout",
     "output_type": "stream",
     "text": [
      "|████████████████████████████████████████| 100/100 [100%] in 10.0s (9.95/s) \n"
     ]
    }
   ],
   "source": [
    "from alive_progress import alive_bar\n",
    "import time\n",
    "\n",
    "with alive_bar(100) as bar:\n",
    "    for _ in range(100):\n",
    "        time.sleep(0.1)\n",
    "        bar()"
   ]
  },
  {
   "cell_type": "code",
   "execution_count": 3,
   "metadata": {},
   "outputs": [
    {
     "name": "stdout",
     "output_type": "stream",
     "text": [
      "Requirement already satisfied: rich in p:\\programs\\dsml\\dsmlenv\\lib\\site-packages (13.9.4)\n",
      "Requirement already satisfied: markdown-it-py>=2.2.0 in p:\\programs\\dsml\\dsmlenv\\lib\\site-packages (from rich) (3.0.0)\n",
      "Requirement already satisfied: pygments<3.0.0,>=2.13.0 in p:\\programs\\dsml\\dsmlenv\\lib\\site-packages (from rich) (2.19.1)\n",
      "Requirement already satisfied: mdurl~=0.1 in p:\\programs\\dsml\\dsmlenv\\lib\\site-packages (from markdown-it-py>=2.2.0->rich) (0.1.2)\n",
      "Note: you may need to restart the kernel to use updated packages.\n"
     ]
    }
   ],
   "source": [
    "%pip install rich\n"
   ]
  },
  {
   "cell_type": "code",
   "execution_count": 5,
   "metadata": {},
   "outputs": [
    {
     "data": {
      "text/html": [
       "<pre style=\"white-space:pre;overflow-x:auto;line-height:normal;font-family:Menlo,'DejaVu Sans Mono',consolas,'Courier New',monospace\"></pre>\n"
      ],
      "text/plain": []
     },
     "metadata": {},
     "output_type": "display_data"
    }
   ],
   "source": [
    "from rich.progress import Progress\n",
    "import time\n",
    "\n",
    "with Progress() as progress:\n",
    "    task = progress.add_task(\"Processing...\", total=100)\n",
    "    for _ in range(100):\n",
    "        time.sleep(0.1)\n",
    "        progress.update(task, advance=1)"
   ]
  },
  {
   "cell_type": "code",
   "execution_count": 2,
   "metadata": {},
   "outputs": [
    {
     "name": "stderr",
     "output_type": "stream",
     "text": [
      "Processing: 100%|██████████| 100/100 [00:05<00:00, 19.95it/s, status=Step 10/10]\n"
     ]
    }
   ],
   "source": [
    "from tqdm import tqdm\n",
    "import time\n",
    "\n",
    "progress = tqdm(total=100, desc=\"Processing\", dynamic_ncols=True)\n",
    "\n",
    "for i in range(10):\n",
    "    time.sleep(0.5)  # Simulate work\n",
    "    progress.update(10)  # Update progress by 10%\n",
    "    progress.set_postfix(status=f\"Step {i+1}/10\")  # Update status\n",
    "\n",
    "progress.close()"
   ]
  },
  {
   "cell_type": "code",
   "execution_count": 3,
   "metadata": {},
   "outputs": [
    {
     "name": "stderr",
     "output_type": "stream",
     "text": [
      "Processing:  10%|█         | 10/100 [00:00<00:04, 19.99it/s]"
     ]
    },
    {
     "name": "stdout",
     "output_type": "stream",
     "text": [
      "Step 1: Processing chunk 0\n"
     ]
    },
    {
     "name": "stderr",
     "output_type": "stream",
     "text": [
      "Processing:  20%|██        | 20/100 [00:01<00:04, 19.93it/s]"
     ]
    },
    {
     "name": "stdout",
     "output_type": "stream",
     "text": [
      "Step 2: Processing chunk 1\n"
     ]
    },
    {
     "name": "stderr",
     "output_type": "stream",
     "text": [
      "Processing:  30%|███       | 30/100 [00:01<00:03, 19.90it/s]"
     ]
    },
    {
     "name": "stdout",
     "output_type": "stream",
     "text": [
      "Step 3: Processing chunk 2\n"
     ]
    },
    {
     "name": "stderr",
     "output_type": "stream",
     "text": [
      "Processing:  40%|████      | 40/100 [00:02<00:03, 19.91it/s]"
     ]
    },
    {
     "name": "stdout",
     "output_type": "stream",
     "text": [
      "Step 4: Processing chunk 3\n"
     ]
    },
    {
     "name": "stderr",
     "output_type": "stream",
     "text": [
      "Processing:  50%|█████     | 50/100 [00:02<00:02, 19.91it/s]"
     ]
    },
    {
     "name": "stdout",
     "output_type": "stream",
     "text": [
      "Step 5: Processing chunk 4\n"
     ]
    },
    {
     "name": "stderr",
     "output_type": "stream",
     "text": [
      "Processing:  60%|██████    | 60/100 [00:03<00:02, 19.92it/s]"
     ]
    },
    {
     "name": "stdout",
     "output_type": "stream",
     "text": [
      "Step 6: Processing chunk 5\n"
     ]
    },
    {
     "name": "stderr",
     "output_type": "stream",
     "text": [
      "Processing:  70%|███████   | 70/100 [00:03<00:01, 19.92it/s]"
     ]
    },
    {
     "name": "stdout",
     "output_type": "stream",
     "text": [
      "Step 7: Processing chunk 6\n"
     ]
    },
    {
     "name": "stderr",
     "output_type": "stream",
     "text": [
      "Processing:  80%|████████  | 80/100 [00:04<00:01, 19.92it/s]"
     ]
    },
    {
     "name": "stdout",
     "output_type": "stream",
     "text": [
      "Step 8: Processing chunk 7\n"
     ]
    },
    {
     "name": "stderr",
     "output_type": "stream",
     "text": [
      "Processing:  90%|█████████ | 90/100 [00:04<00:00, 19.92it/s]"
     ]
    },
    {
     "name": "stdout",
     "output_type": "stream",
     "text": [
      "Step 9: Processing chunk 8\n"
     ]
    },
    {
     "name": "stderr",
     "output_type": "stream",
     "text": [
      "Processing: 100%|██████████| 100/100 [00:05<00:00, 19.92it/s]"
     ]
    },
    {
     "name": "stdout",
     "output_type": "stream",
     "text": [
      "Step 10: Processing chunk 9\n"
     ]
    },
    {
     "name": "stderr",
     "output_type": "stream",
     "text": [
      "\n"
     ]
    }
   ],
   "source": [
    "from tqdm import tqdm\n",
    "import time\n",
    "\n",
    "progress = tqdm(total=100, desc=\"Processing\", dynamic_ncols=True)\n",
    "\n",
    "for i in range(10):\n",
    "    time.sleep(0.5)\n",
    "    progress.update(10)\n",
    "    tqdm.write(\n",
    "        f\"Step {i+1}: Processing chunk {i}\"\n",
    "    )  # Print message without affecting the bar\n",
    "\n",
    "progress.close()"
   ]
  },
  {
   "cell_type": "code",
   "execution_count": 4,
   "metadata": {},
   "outputs": [
    {
     "name": "stderr",
     "output_type": "stream",
     "text": [
      "Processing Step 10/10: 100%|██████████| 100/100 [00:05<00:00, 19.95it/s]\n"
     ]
    }
   ],
   "source": [
    "from tqdm import tqdm\n",
    "import time\n",
    "\n",
    "progress = tqdm(total=100, dynamic_ncols=True)\n",
    "\n",
    "for i in range(10):\n",
    "    time.sleep(0.5)\n",
    "    progress.set_description(f\"Processing Step {i+1}/10\")  # Update description\n",
    "    progress.update(10)\n",
    "\n",
    "progress.close()"
   ]
  },
  {
   "cell_type": "markdown",
   "metadata": {},
   "source": [
    "that is the one"
   ]
  },
  {
   "cell_type": "code",
   "execution_count": 5,
   "metadata": {},
   "outputs": [
    {
     "name": "stderr",
     "output_type": "stream",
     "text": [
      "Processing:  10%|█         | 10/100 [00:00<00:04, 19.95it/s]"
     ]
    },
    {
     "name": "stdout",
     "output_type": "stream",
     "text": [
      "Step 1/10: Processing chunk 0\n"
     ]
    },
    {
     "name": "stderr",
     "output_type": "stream",
     "text": [
      "Processing:  20%|██        | 20/100 [00:01<00:04, 19.93it/s]"
     ]
    },
    {
     "name": "stdout",
     "output_type": "stream",
     "text": [
      "Step 2/10: Processing chunk 1\n"
     ]
    },
    {
     "name": "stderr",
     "output_type": "stream",
     "text": [
      "Processing:  30%|███       | 30/100 [00:01<00:03, 19.93it/s]"
     ]
    },
    {
     "name": "stdout",
     "output_type": "stream",
     "text": [
      "Step 3/10: Processing chunk 2\n"
     ]
    },
    {
     "name": "stderr",
     "output_type": "stream",
     "text": [
      "Processing:  40%|████      | 40/100 [00:02<00:03, 19.93it/s]"
     ]
    },
    {
     "name": "stdout",
     "output_type": "stream",
     "text": [
      "Step 4/10: Processing chunk 3\n"
     ]
    },
    {
     "name": "stderr",
     "output_type": "stream",
     "text": [
      "Processing:  50%|█████     | 50/100 [00:02<00:02, 19.92it/s]"
     ]
    },
    {
     "name": "stdout",
     "output_type": "stream",
     "text": [
      "Step 5/10: Processing chunk 4\n"
     ]
    },
    {
     "name": "stderr",
     "output_type": "stream",
     "text": [
      "Processing:  60%|██████    | 60/100 [00:03<00:02, 19.92it/s]"
     ]
    },
    {
     "name": "stdout",
     "output_type": "stream",
     "text": [
      "Step 6/10: Processing chunk 5\n"
     ]
    },
    {
     "name": "stderr",
     "output_type": "stream",
     "text": [
      "Processing:  70%|███████   | 70/100 [00:03<00:01, 19.92it/s]"
     ]
    },
    {
     "name": "stdout",
     "output_type": "stream",
     "text": [
      "Step 7/10: Processing chunk 6\n"
     ]
    },
    {
     "name": "stderr",
     "output_type": "stream",
     "text": [
      "Processing:  80%|████████  | 80/100 [00:04<00:01, 19.93it/s]"
     ]
    },
    {
     "name": "stdout",
     "output_type": "stream",
     "text": [
      "Step 8/10: Processing chunk 7\n"
     ]
    },
    {
     "name": "stderr",
     "output_type": "stream",
     "text": [
      "Processing:  90%|█████████ | 90/100 [00:04<00:00, 19.93it/s]"
     ]
    },
    {
     "name": "stdout",
     "output_type": "stream",
     "text": [
      "Step 9/10: Processing chunk 8\n"
     ]
    },
    {
     "name": "stderr",
     "output_type": "stream",
     "text": [
      "Processing: 100%|██████████| 100/100 [00:05<00:00, 19.92it/s]"
     ]
    },
    {
     "name": "stdout",
     "output_type": "stream",
     "text": [
      "Step 10/10: Processing chunk 9\n"
     ]
    },
    {
     "name": "stderr",
     "output_type": "stream",
     "text": [
      "\n"
     ]
    }
   ],
   "source": [
    "from tqdm import tqdm\n",
    "import time\n",
    "\n",
    "progress = tqdm(total=100, desc=\"Processing\", dynamic_ncols=True)\n",
    "\n",
    "for i in range(10):\n",
    "    time.sleep(0.5)  # Simulate work\n",
    "    tqdm.write(f\"Step {i+1}/10: Processing chunk {i}\")  # Print log above progress bar\n",
    "    progress.update(10)\n",
    "\n",
    "progress.close()"
   ]
  },
  {
   "cell_type": "code",
   "execution_count": null,
   "metadata": {},
   "outputs": [],
   "source": []
  }
 ],
 "metadata": {
  "kernelspec": {
   "display_name": "Python 3",
   "language": "python",
   "name": "python3"
  },
  "language_info": {
   "codemirror_mode": {
    "name": "ipython",
    "version": 3
   },
   "file_extension": ".py",
   "mimetype": "text/x-python",
   "name": "python",
   "nbconvert_exporter": "python",
   "pygments_lexer": "ipython3",
   "version": "3.13.1"
  }
 },
 "nbformat": 4,
 "nbformat_minor": 2
}
